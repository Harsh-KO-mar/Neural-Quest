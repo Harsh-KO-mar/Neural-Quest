{
  "cells": [
    {
      "cell_type": "markdown",
      "metadata": {
        "id": "Xwo8D8V-uPsI"
      },
      "source": [
        "# CNN-lytical Assignment-2\n",
        "<center>\n",
        "<img src=\"https://encrypted-tbn0.gstatic.com/images?q=tbn:ANd9GcS7fZ0PJ4leQi4qtXR5Egv5YILqQqvzVSNtFg&usqp=CAU\">\n",
        "</center>\n",
        "\n",
        "*  In this assignment, we will build a classifier for MNIST from using [PyTorch](https://pytorch.org/docs/stable/index.html).\n",
        "\n",
        "*   We will be using the same dataset as the previous assignment for MNIST. **Do not** use the complete MNIST dataset, even though PyTorch makes it really easy.\n",
        "\n",
        "*   No limitations on your model this time, just don't use CNNs now, that's up next week.\n",
        "\n",
        "**Feel free to redefine any function signatures below, just make sure the final cell remains the same.**"
      ]
    },
    {
      "cell_type": "markdown",
      "metadata": {
        "id": "QQNvtQCE_j1Q"
      },
      "source": [
        "## Import libraries here\n",
        "PyTorch, NumPy, Matplotlib, ...\n",
        "Even when equipped with PyTorch, NumPy and Matplotlib make your work easier for visualization etc.\n",
        "\n",
        "Also remember to **initialize the seed** for reproducibility of results, both for NumPy & PyTorch."
      ]
    },
    {
      "cell_type": "code",
      "execution_count": 1,
      "metadata": {
        "id": "CnnyxVTxqpZB",
        "colab": {
          "base_uri": "https://localhost:8080/"
        },
        "outputId": "26a88155-5692-4838-a561-63f2b88d0d78"
      },
      "outputs": [
        {
          "output_type": "execute_result",
          "data": {
            "text/plain": [
              "<torch._C.Generator at 0x785c280b3590>"
            ]
          },
          "metadata": {},
          "execution_count": 1
        }
      ],
      "source": [
        "import numpy as np\n",
        "import matplotlib.pyplot as plt\n",
        "\n",
        "import torch\n",
        "import torch.nn as nn\n",
        "import torch.optim as optim\n",
        "from torch.utils.data import Dataset, DataLoader\n",
        "\n",
        "from sklearn.model_selection import train_test_split\n",
        "from sklearn.preprocessing import MinMaxScaler\n",
        "import pickle\n",
        "\n",
        "np.random.seed(69)\n",
        "torch.manual_seed(99)"
      ]
    },
    {
      "cell_type": "markdown",
      "metadata": {
        "id": "D6dAe4V0_3zC"
      },
      "source": [
        "## Load *Dataset*\n",
        "Use the pickle file shared for the previous assignment here."
      ]
    },
    {
      "cell_type": "code",
      "execution_count": 2,
      "metadata": {
        "id": "umr8-1EI_3ez",
        "colab": {
          "base_uri": "https://localhost:8080/"
        },
        "outputId": "95427211-05d2-4ddc-e51a-f8399b28a3a3"
      },
      "outputs": [
        {
          "output_type": "stream",
          "name": "stdout",
          "text": [
            "Mounted at /content/drive\n"
          ]
        }
      ],
      "source": [
        "# mount Google Drive to access the dataset\n",
        "from google.colab import drive\n",
        "drive.mount('/content/drive')\n",
        "\n",
        "# load the data set\n",
        "with open('/content/drive/MyDrive/train_data.pkl', 'rb') as fuk:\n",
        "    dataset = pickle.load(fuk)\n",
        "\n",
        "X = dataset['X']\n",
        "y = dataset['y']\n",
        "\n",
        "# normalize\n",
        "MMS = MinMaxScaler()\n",
        "X_trans = MMS.fit_transform(X)\n",
        "\n",
        "# Split into X_train, y_train, X_test, y_test\n",
        "# you can use stratified splitting from sklearn library\n",
        "\n",
        "X_tr, X_te, y_tr, y_te = train_test_split(X_trans, y, test_size=0.2, random_state=666)\n"
      ]
    },
    {
      "cell_type": "code",
      "execution_count": 3,
      "metadata": {
        "id": "w4174DiUAUIJ",
        "colab": {
          "base_uri": "https://localhost:8080/",
          "height": 675
        },
        "outputId": "6da22c6e-a7a6-4249-ded9-1cb5b273f14d"
      },
      "outputs": [
        {
          "output_type": "display_data",
          "data": {
            "text/plain": [
              "<Figure size 800x800 with 16 Axes>"
            ],
            "image/png": "[encoded data removed]"
          },
          "metadata": {}
        }
      ],
      "source": [
        "# display a 4x4 grid,\n",
        "grid = (4,4)\n",
        "# choose 16 images randomly, display the images as well as corresponding labels\n",
        "indices = np.random.choice(X_tr.shape[0], size=grid[0]*grid[1], replace=False)\n",
        "images = X_tr[indices]\n",
        "labels = y_tr[indices]\n",
        "\n",
        "fig, axes = plt.subplots(grid[0], grid[1], figsize=(8, 8))\n",
        "for i, ax in enumerate(axes.flat):\n",
        "    ax.imshow(images[i].reshape(28, 28), cmap='gray')\n",
        "    ax.set_axis_off()\n",
        "    ax.set_title(f\"Label : {labels[i]}\")\n",
        "\n",
        "fig.tight_layout\n",
        "\n",
        "plt.show()\n",
        "\n",
        "#print(X_tr.shape, X_te.shape, y_tr.shape, y_te.shape)"
      ]
    },
    {
      "cell_type": "markdown",
      "metadata": {
        "id": "ZjY5oNGRAK1e"
      },
      "source": [
        "## Creating a Dataset Class\n",
        "In PyTorch, there is existing implementation of batch-splitting. You don't need to do it manually over here. Instead, just define a Dataset class and a Dataloader wrapping it.\n",
        "\n",
        "A dataset class must have 3 functions - ```__init__```, ```__len__```, ```__getitem__```. Their names are pretty self-explanatory. You can read more about this [here](https://pytorch.org/tutorials/beginner/basics/data_tutorial.html).\n",
        "\n",
        "\n",
        "**Note** - Things like normalization, augmentation etc. which are related to the dataset are all done in this class. However, because this assignment doesn't deal with MNIST images but rather feature vectors, this part is being skipped here and will be discussed in Assignment 3."
      ]
    },
    {
      "cell_type": "code",
      "execution_count": 4,
      "metadata": {
        "id": "vifSrimqBGjH"
      },
      "outputs": [],
      "source": [
        "# define your dataset class\n",
        "\n",
        "class MNISTDataset(Dataset):\n",
        "    def __init__(self, X, y):\n",
        "        self.x_data = torch.tensor(X, dtype=torch.float32)\n",
        "        self.y_data = torch.tensor(y, dtype=torch.long)\n",
        "\n",
        "    def __getitem__(self, index):\n",
        "        return self.x_data[index], self.y_data[index]\n",
        "\n",
        "    def __len__(self):\n",
        "        return len(self.x_data)\n",
        "\n",
        "# Create instances of the dataset class for train and test sets\n",
        "train_data = MNISTDataset(X_tr, y_tr)\n",
        "test_data = MNISTDataset(X_te, y_te)\n"
      ]
    },
    {
      "cell_type": "markdown",
      "metadata": {
        "id": "DOs6uifpBF8P"
      },
      "source": [
        "## ```nn.Module``` for your model\n",
        "In this segment, define a class for your model, it has to inherit from the ```nn.Module``` class. You must define two functions here - ```__init__``` and ```forward```, again pretty self-explanatory. Helper functions can also be implemented, your choice!\n",
        "\n",
        "Look into the following ```torch``` layers and combine them to form your network, you can find more [here](https://pytorch.org/docs/stable/nn.html) -\n",
        "- [```nn.Linear```](https://pytorch.org/docs/stable/generated/torch.nn.Linear.html)\n",
        "- [```nn.ReLU```](https://pytorch.org/docs/stable/generated/torch.nn.ReLU.html)\n",
        "- [```nn.BatchNorm1d```](https://pytorch.org/docs/stable/generated/torch.nn.BatchNorm1d.html)\n"
      ]
    },
    {
      "cell_type": "code",
      "execution_count": 5,
      "metadata": {
        "id": "6Mr6_5pzGRjp"
      },
      "outputs": [],
      "source": [
        "# define a child class of nn.Module for your model\n",
        "# specify the architecture here itself\n",
        "\n",
        "class NeuralNet(nn.Module):\n",
        "    def __init__(self, hidden_size):\n",
        "        super(NeuralNet, self).__init__()\n",
        "        self.l1 = nn.Linear(784, hidden_size)\n",
        "        self.relu = nn.ReLU()\n",
        "        self.l2 = nn.Linear(hidden_size, 10)\n",
        "\n",
        "    def forward(self, x):\n",
        "        out = self.l1(x)\n",
        "        out = self.relu(out)\n",
        "        out = self.l2(out)\n",
        "        # no activation and no softmax at the end\n",
        "        return out\n",
        "\n"
      ]
    },
    {
      "cell_type": "markdown",
      "metadata": {
        "id": "tVTyirdELXlt"
      },
      "source": [
        "## Training loop\n",
        "You can write a training loop but usually writing it within a function helps so that you can train in multiple passes with just one function call if you still don't see convergence of the loss. ```display_step``` is for you to display results on the validation set (which you must not have trained upon).\n",
        "\n",
        "You will need to use ```zero_grad()```, ```backward()``` and multiple such functions here. Look for them in the tutorials given."
      ]
    },
    {
      "cell_type": "code",
      "execution_count": 6,
      "metadata": {
        "id": "z0BnrNm8LN5s"
      },
      "outputs": [],
      "source": [
        "def train(model, optimizer, criterion, train_loader, num_epochs, display_step=None):\n",
        "    n_total_steps = len(train_loader)\n",
        "    for epoch in range(num_epochs):\n",
        "        for i, (images, labels) in enumerate(train_loader):\n",
        "            images = images.reshape(-1, 28*28)\n",
        "            labels = labels.reshape(-1)\n",
        "\n",
        "            # Forward pass\n",
        "            outputs = model(images)\n",
        "            loss = criterion(outputs, labels)\n",
        "\n",
        "            # Backward and optimize\n",
        "            optimizer.zero_grad()\n",
        "            loss.backward()\n",
        "            optimizer.step()\n",
        "\n",
        "            if (i+1) % 100 == 0:\n",
        "                print (f'Epoch [{epoch+1}/{num_epochs}], Step [{i+1}/{n_total_steps}], Loss: {loss.item():.4f}')\n"
      ]
    },
    {
      "cell_type": "markdown",
      "metadata": {
        "id": "g319ipPXMh0R"
      },
      "source": [
        "## Initialize weights\n",
        "Write a small function to initialize weights for your model. You don't need to do it individually for each layer, there are ways to do it in a simple ```for``` loop."
      ]
    },
    {
      "cell_type": "code",
      "execution_count": 7,
      "metadata": {
        "id": "GRqqKNLZMjDe"
      },
      "outputs": [],
      "source": [
        "def init_weights(model):\n",
        "    for layer in model.children():\n",
        "        if isinstance(layer, nn.Linear):\n",
        "            nn.init.kaiming_normal_(layer.weight)\n",
        "            nn.init.zeros_(layer.bias)\n"
      ]
    },
    {
      "cell_type": "markdown",
      "metadata": {
        "id": "ivuHRGtfN3sE"
      },
      "source": [
        "## Prediction & Accuracy\n",
        "Prediction function should predict outputs using your trained model for a given **NumPy array** ```X_test``` and the output should be another **NumPy array**.\n",
        "\n",
        "The accuracy function would be the same as before."
      ]
    },
    {
      "cell_type": "code",
      "execution_count": 8,
      "metadata": {
        "id": "cPX1q_0AN3ZV"
      },
      "outputs": [],
      "source": [
        "def predict(model, X_test):\n",
        "    model.eval()\n",
        "    with torch.no_grad():\n",
        "        logits = model(torch.tensor(X_test, dtype=torch.float32))\n",
        "        predictions = torch.argmax(logits, dim=1).numpy()\n",
        "    return predictions"
      ]
    },
    {
      "cell_type": "code",
      "execution_count": 9,
      "metadata": {
        "id": "_nKROVpWOa6j"
      },
      "outputs": [],
      "source": [
        "def accuracy(pred, labels):\n",
        "    return (np.sum(pred == labels))/pred.shape[0]"
      ]
    },
    {
      "cell_type": "markdown",
      "metadata": {
        "id": "8aA1EWZmMbQe"
      },
      "source": [
        "## Actually training your model\n",
        "- Create a model, initialize it. Define optimizer for the model as well as loss criterion (you can actually set the seed here again, just in case you did some ```rand``` calls above for testing your functions).\n",
        "- Define an instance of the dataset class, wrap it in a dataloader.\n",
        "- Call the train function and train your model!\n"
      ]
    },
    {
      "cell_type": "code",
      "execution_count": 10,
      "metadata": {
        "id": "F8JG_XURNLmr",
        "colab": {
          "base_uri": "https://localhost:8080/"
        },
        "outputId": "7e84c324-c23c-4007-9dac-94f3ff8f3bd1"
      },
      "outputs": [
        {
          "output_type": "stream",
          "name": "stdout",
          "text": [
            "Epoch [1/10], Step [100/750], Loss: 0.4008\n",
            "Epoch [1/10], Step [200/750], Loss: 0.4013\n",
            "Epoch [1/10], Step [300/750], Loss: 0.2994\n",
            "Epoch [1/10], Step [400/750], Loss: 0.2327\n",
            "Epoch [1/10], Step [500/750], Loss: 0.1065\n",
            "Epoch [1/10], Step [600/750], Loss: 0.1605\n",
            "Epoch [1/10], Step [700/750], Loss: 0.1137\n",
            "Epoch [2/10], Step [100/750], Loss: 0.1355\n",
            "Epoch [2/10], Step [200/750], Loss: 0.0352\n",
            "Epoch [2/10], Step [300/750], Loss: 0.0984\n",
            "Epoch [2/10], Step [400/750], Loss: 0.0829\n",
            "Epoch [2/10], Step [500/750], Loss: 0.1861\n",
            "Epoch [2/10], Step [600/750], Loss: 0.0723\n",
            "Epoch [2/10], Step [700/750], Loss: 0.0275\n",
            "Epoch [3/10], Step [100/750], Loss: 0.0489\n",
            "Epoch [3/10], Step [200/750], Loss: 0.0413\n",
            "Epoch [3/10], Step [300/750], Loss: 0.0402\n",
            "Epoch [3/10], Step [400/750], Loss: 0.0831\n",
            "Epoch [3/10], Step [500/750], Loss: 0.1381\n",
            "Epoch [3/10], Step [600/750], Loss: 0.1725\n",
            "Epoch [3/10], Step [700/750], Loss: 0.0337\n",
            "Epoch [4/10], Step [100/750], Loss: 0.0116\n",
            "Epoch [4/10], Step [200/750], Loss: 0.0240\n",
            "Epoch [4/10], Step [300/750], Loss: 0.0564\n",
            "Epoch [4/10], Step [400/750], Loss: 0.0205\n",
            "Epoch [4/10], Step [500/750], Loss: 0.0330\n",
            "Epoch [4/10], Step [600/750], Loss: 0.0101\n",
            "Epoch [4/10], Step [700/750], Loss: 0.0119\n",
            "Epoch [5/10], Step [100/750], Loss: 0.0221\n",
            "Epoch [5/10], Step [200/750], Loss: 0.0209\n",
            "Epoch [5/10], Step [300/750], Loss: 0.0150\n",
            "Epoch [5/10], Step [400/750], Loss: 0.0291\n",
            "Epoch [5/10], Step [500/750], Loss: 0.0220\n",
            "Epoch [5/10], Step [600/750], Loss: 0.0274\n",
            "Epoch [5/10], Step [700/750], Loss: 0.0512\n",
            "Epoch [6/10], Step [100/750], Loss: 0.0078\n",
            "Epoch [6/10], Step [200/750], Loss: 0.0135\n",
            "Epoch [6/10], Step [300/750], Loss: 0.0531\n",
            "Epoch [6/10], Step [400/750], Loss: 0.0367\n",
            "Epoch [6/10], Step [500/750], Loss: 0.0377\n",
            "Epoch [6/10], Step [600/750], Loss: 0.0218\n",
            "Epoch [6/10], Step [700/750], Loss: 0.0754\n",
            "Epoch [7/10], Step [100/750], Loss: 0.0344\n",
            "Epoch [7/10], Step [200/750], Loss: 0.0502\n",
            "Epoch [7/10], Step [300/750], Loss: 0.0048\n",
            "Epoch [7/10], Step [400/750], Loss: 0.0076\n",
            "Epoch [7/10], Step [500/750], Loss: 0.0290\n",
            "Epoch [7/10], Step [600/750], Loss: 0.0182\n",
            "Epoch [7/10], Step [700/750], Loss: 0.0232\n",
            "Epoch [8/10], Step [100/750], Loss: 0.0035\n",
            "Epoch [8/10], Step [200/750], Loss: 0.0077\n",
            "Epoch [8/10], Step [300/750], Loss: 0.0092\n",
            "Epoch [8/10], Step [400/750], Loss: 0.0027\n",
            "Epoch [8/10], Step [500/750], Loss: 0.0039\n",
            "Epoch [8/10], Step [600/750], Loss: 0.0552\n",
            "Epoch [8/10], Step [700/750], Loss: 0.0079\n",
            "Epoch [9/10], Step [100/750], Loss: 0.0200\n",
            "Epoch [9/10], Step [200/750], Loss: 0.0031\n",
            "Epoch [9/10], Step [300/750], Loss: 0.0031\n",
            "Epoch [9/10], Step [400/750], Loss: 0.0074\n",
            "Epoch [9/10], Step [500/750], Loss: 0.0505\n",
            "Epoch [9/10], Step [600/750], Loss: 0.0202\n",
            "Epoch [9/10], Step [700/750], Loss: 0.0057\n",
            "Epoch [10/10], Step [100/750], Loss: 0.0064\n",
            "Epoch [10/10], Step [200/750], Loss: 0.0144\n",
            "Epoch [10/10], Step [300/750], Loss: 0.0055\n",
            "Epoch [10/10], Step [400/750], Loss: 0.0033\n",
            "Epoch [10/10], Step [500/750], Loss: 0.0031\n",
            "Epoch [10/10], Step [600/750], Loss: 0.0279\n",
            "Epoch [10/10], Step [700/750], Loss: 0.0571\n"
          ]
        }
      ],
      "source": [
        "model = NeuralNet(256)\n",
        "# Initialize the weights of the model\n",
        "init_weights(model)\n",
        "\n",
        "# Define the loss function and optimizer\n",
        "criterion = nn.CrossEntropyLoss()\n",
        "optimizer = optim.Adam(model.parameters(), lr=0.001)\n",
        "\n",
        "# Create data loaders for train and test sets\n",
        "train_loader = DataLoader(dataset=train_data, batch_size=64, shuffle=True)\n",
        "test_loader = DataLoader(dataset=test_data, batch_size=64, shuffle=False)\n",
        "\n",
        "# Train the model\n",
        "num_epochs = 10\n",
        "train(model, optimizer, criterion, train_loader, num_epochs, display_step=100)\n",
        "\n"
      ]
    },
    {
      "cell_type": "markdown",
      "metadata": {
        "id": "OQsiK0-COe6E"
      },
      "source": [
        "## Run your model for the validation dataset\n",
        "Use your trained model to get predictions for the validation dataset you split earlier."
      ]
    },
    {
      "cell_type": "code",
      "execution_count": 15,
      "metadata": {
        "id": "i_B_NUjUOq3c",
        "colab": {
          "base_uri": "https://localhost:8080/"
        },
        "outputId": "a8159925-4612-477e-df4f-d7b7714ad4bf"
      },
      "outputs": [
        {
          "output_type": "stream",
          "name": "stdout",
          "text": [
            "Test Accuracy: 97.6917\n"
          ]
        }
      ],
      "source": [
        "# Get predictions for the test set\n",
        "y_pred = predict(model, X_te)\n",
        "\n",
        "# Calculate accuracy on the test set\n",
        "test_accuracy = accuracy(y_pred, y_te.reshape(-1))\n",
        "print(f\"Test Accuracy: {(100 * test_accuracy):.4f} %\")\n"
      ]
    },
    {
      "cell_type": "markdown",
      "metadata": {
        "id": "0f4W_facj-PA"
      },
      "source": [
        "## Submission\n",
        "To submit your solution, you will need to make a file with name ```model.py``` containing imports necessary to write the model class and the model class itself. It shouldn't do anything else when run. Other than this, save the trained model in a file named ```ass_2.pt```. When you are done with the assignment, commit the updated notebook, the ```model.py``` class file and the ```ass_2.pt``` model-weights file to the repository."
      ]
    },
    {
      "cell_type": "code",
      "execution_count": 12,
      "metadata": {
        "id": "7tknYAy1j92M",
        "colab": {
          "base_uri": "https://localhost:8080/",
          "height": 17
        },
        "outputId": "15fa4b8b-da95-458f-948d-3ff68c9fb25d"
      },
      "outputs": [
        {
          "output_type": "display_data",
          "data": {
            "text/plain": [
              "<IPython.core.display.Javascript object>"
            ],
            "application/javascript": [
              "\n",
              "    async function download(id, filename, size) {\n",
              "      if (!google.colab.kernel.accessAllowed) {\n",
              "        return;\n",
              "      }\n",
              "      const div = document.createElement('div');\n",
              "      const label = document.createElement('label');\n",
              "      label.textContent = `Downloading \"${filename}\": `;\n",
              "      div.appendChild(label);\n",
              "      const progress = document.createElement('progress');\n",
              "      progress.max = size;\n",
              "      div.appendChild(progress);\n",
              "      document.body.appendChild(div);\n",
              "\n",
              "      const buffers = [];\n",
              "      let downloaded = 0;\n",
              "\n",
              "      const channel = await google.colab.kernel.comms.open(id);\n",
              "      // Send a message to notify the kernel that we're ready.\n",
              "      channel.send({})\n",
              "\n",
              "      for await (const message of channel.messages) {\n",
              "        // Send a message to notify the kernel that we're ready.\n",
              "        channel.send({})\n",
              "        if (message.buffers) {\n",
              "          for (const buffer of message.buffers) {\n",
              "            buffers.push(buffer);\n",
              "            downloaded += buffer.byteLength;\n",
              "            progress.value = downloaded;\n",
              "          }\n",
              "        }\n",
              "      }\n",
              "      const blob = new Blob(buffers, {type: 'application/binary'});\n",
              "      const a = document.createElement('a');\n",
              "      a.href = window.URL.createObjectURL(blob);\n",
              "      a.download = filename;\n",
              "      div.appendChild(a);\n",
              "      a.click();\n",
              "      div.remove();\n",
              "    }\n",
              "  "
            ]
          },
          "metadata": {}
        },
        {
          "output_type": "display_data",
          "data": {
            "text/plain": [
              "<IPython.core.display.Javascript object>"
            ],
            "application/javascript": [
              "download(\"download_14086d7c-f470-4bff-9f3d-0fb03c1900aa\", \"ass_2.pt\", 816595)"
            ]
          },
          "metadata": {}
        }
      ],
      "source": [
        "from google.colab import files\n",
        "torch.save(model, 'ass_2.pt')\n",
        "files.download('ass_2.pt') # download the file from the Colab session for submission"
      ]
    },
    {
      "cell_type": "markdown",
      "metadata": {
        "id": "flMRBW9Akhkg"
      },
      "source": [
        "Check if it got saved right!"
      ]
    },
    {
      "cell_type": "markdown",
      "metadata": {
        "id": "hitia3TVZcfV"
      },
      "source": []
    },
    {
      "cell_type": "code",
      "execution_count": 14,
      "metadata": {
        "id": "-wA9nHzYkj1R",
        "colab": {
          "base_uri": "https://localhost:8080/"
        },
        "outputId": "bdd22e6e-43be-4e60-f9f5-0558f938353b"
      },
      "outputs": [
        {
          "output_type": "stream",
          "name": "stdout",
          "text": [
            "Test Accuracy: 97.6917\n"
          ]
        }
      ],
      "source": [
        "# load the model, use predict function\n",
        "model1=torch.load('/content/ass_2.pt')\n",
        "y_pred = predict(model1, X_te)\n",
        "test_accuracy = accuracy(y_pred, y_te.reshape(-1))\n",
        "print(f\"Test Accuracy: {(100 * test_accuracy):.4f}\")"
      ]
    }
  ],
  "metadata": {
    "colab": {
      "provenance": []
    },
    "kernelspec": {
      "display_name": "Python 3",
      "name": "python3"
    },
    "language_info": {
      "codemirror_mode": {
        "name": "ipython",
        "version": 3
      },
      "file_extension": ".py",
      "mimetype": "text/x-python",
      "name": "python",
      "nbconvert_exporter": "python",
      "pygments_lexer": "ipython3",
      "version": "3.9.0b3"
    }
  },
  "nbformat": 4,
  "nbformat_minor": 0
}